{
 "cells": [
  {
   "cell_type": "markdown",
   "metadata": {},
   "source": [
    "<h1> Customer Churn Analysis for FloorMat Grocery store</h1>\n",
    "\n",
    "\n",
    "<h2>Scenario:</h2>\n",
    "FloorMat is a grocery shop. Customers usually come to the store once every 2 weeks to purchase groceries. Our team has a marketing budget of $1000 to increase sales during the december closing season.  \n",
    "\n",
    "We have recieved a customer Dataset from operations of store transactions from Jan'2017 - Dec'2019, We need to find the users that are likely to churn and provide coupons.\n",
    "\n",
    "In the current example we have used a cut-off date of Oct 16 2019.\n",
    "\n",
    "The cutoff Date symbolizes 2.5 months before the December closing and the grocery store wants to provide coupons to customer that have not shopped with us in a while.\n",
    "\n",
    "<h2>Procedure:</h2>\n",
    "\n",
    "1.Create a datetime field called cut-off and populate as Oct 16 2019,\n",
    "\n",
    "2.Find customers that have not shopped with us since then.<--criteria for churned customers\n",
    "\n"
   ]
  },
  {
   "cell_type": "code",
   "execution_count": 24,
   "metadata": {},
   "outputs": [
    {
     "name": "stdout",
     "output_type": "stream",
     "text": [
      "<class 'pandas.core.frame.DataFrame'>\n",
      "Index: 6889 entries, FM1112 to FM9000\n",
      "Data columns (total 1 columns):\n",
      "trans_date    6889 non-null datetime64[ns]\n",
      "dtypes: datetime64[ns](1)\n",
      "memory usage: 107.6+ KB\n"
     ]
    }
   ],
   "source": [
    "import pandas as pd\n",
    "import datetime as dt\n",
    "\n",
    "\n",
    "\n",
    "data = pd.read_csv(\"rfm_xmas19.txt\", parse_dates=[\"trans_date\"])\n",
    "group_by_customer = data.groupby(\"customer_id\")\n",
    "last_transaction = group_by_customer[\"trans_date\"].max()\n",
    "#print(dt.now()) \n",
    "best_churn = pd.DataFrame(data.groupby('customer_id')['trans_date'].max())\n",
    "#best_churn.reset_index(inplace = True)\n",
    "best_churn.info()\n",
    "cutoff_day = dt.datetime(2019, 10, 16)\n",
    "\n",
    "best_churn['churned'] = ''\n",
    "best_churn['churned'] =best_churn['trans_date'].apply(lambda n : 1 if n < cutoff_day else 0)"
   ]
  },
  {
   "cell_type": "code",
   "execution_count": 25,
   "metadata": {},
   "outputs": [
    {
     "name": "stdout",
     "output_type": "stream",
     "text": [
      "46.71 people have not shopped with us for past 3 months\n"
     ]
    }
   ],
   "source": [
    "#number of people who have churned given the criteria\n",
    "churned_percent = (best_churn[best_churn['churned'] == 1].count()/best_churn.count())*100\n",
    "print('{0} people have not shopped with us for past 3 months'.format(round(churned_percent[1],2)))"
   ]
  },
  {
   "cell_type": "code",
   "execution_count": 29,
   "metadata": {},
   "outputs": [],
   "source": [
    "best_churn['amount_spent'] = pd.DataFrame(data.groupby('customer_id')['tran_amount'].sum())\n",
    "best_churn['nr_of_transactions'] = pd.DataFrame(data.groupby('customer_id')['trans_date'].count())"
   ]
  },
  {
   "cell_type": "code",
   "execution_count": 37,
   "metadata": {},
   "outputs": [],
   "source": [
    "best_churn.drop(['trans_date'], axis = 1)\n"
   ]
  },
  {
   "cell_type": "markdown",
   "metadata": {},
   "source": [
    "Create a Weighted score that takes into account the amount spent by the customer and the number of transactions by the customer.\n",
    "\n",
    "We will scale the two metrics down using min/max normalization((x-x.min)/(x.max-x.min)). \n",
    "\n",
    "Use a weighted sum of the two metrics as follows:\n",
    "<h2>Score = 0.5 * scaled amount spent +0.5 * scaled number of transaction</h2>"
   ]
  },
  {
   "cell_type": "code",
   "execution_count": 45,
   "metadata": {},
   "outputs": [],
   "source": [
    "best_churn[[\"nr_of_transactions\", \"amount_spent\"]].describe().loc[[\"min\", \"max\"]]\n",
    "deno = (best_churn['nr_of_transactions'].max()- best_churn['nr_of_transactions'].min())\n",
    "best_churn['scaled_tran'] = (best_churn['nr_of_transactions'] - best_churn['nr_of_transactions'].min()) /deno\n",
    "\n",
    "deno = (best_churn['amount_spent'].max() - best_churn['amount_spent'].min())\n",
    "best_churn['scaled_amount'] = (best_churn['amount_spent'] - best_churn['amount_spent'].min()) /deno\n",
    "\n",
    "best_churn['score'] = (.5*best_churn['scaled_tran'] + 0.5*best_churn['scaled_amount'])*100\n",
    "\n",
    "best_churn.sort_values('score' , ascending = False, inplace = True)"
   ]
  },
  {
   "cell_type": "markdown",
   "metadata": {},
   "source": [
    "<h1>Determine the coupon amount and whom to send</h1> \n",
    "\n",
    "The department has a budget of $1000. From past data we found that  \n",
    "30% discount is enticing enough for customers to come to the store as a guestimate. \n",
    "\n",
    "Approach:\n",
    "1. We check what is the average transaction amount at the store.\n",
    "2. We calculate the amount and calculate 30% of the amount\n",
    "3. We divide the number from the budget to get 50 people, we can give discounts to.\n",
    "4. Now we use the best_churn dataset(sorted by score,descding) and pick the first 50 customers and send them a coupon and wait.\n",
    "\n",
    "Result:\n",
    "\n",
    "Average Coupon amount(Estimated): $20\n",
    "\n",
    "Number of coupon recipients : 50"
   ]
  },
  {
   "cell_type": "code",
   "execution_count": 53,
   "metadata": {},
   "outputs": [
    {
     "name": "stdout",
     "output_type": "stream",
     "text": [
      "We can provide 30% off coupons to 51.0 people as part of our marketing campaign\n"
     ]
    }
   ],
   "source": [
    "\n",
    "coupon = round(data['tran_amount'].mean()*.3,2)\n",
    "nr_of_customers = round(1000/coupon,0)\n",
    "print('We can provide 30% off coupons to {0} people as part of our marketing campaign'.format(nr_of_customers))"
   ]
  },
  {
   "cell_type": "code",
   "execution_count": 54,
   "metadata": {
    "collapsed": true
   },
   "outputs": [],
   "source": [
    "#Below is the list of top 50 customers, which will recieve the coupons\n",
    "top_50_churned = best_churn[best_churn['churned'] == 1].head(50)\n",
    "top_50_churned.to_csv('best_customers.txt')"
   ]
  }
 ],
 "metadata": {
  "kernelspec": {
   "display_name": "Python 3",
   "language": "python",
   "name": "python3"
  },
  "language_info": {
   "codemirror_mode": {
    "name": "ipython",
    "version": 3
   },
   "file_extension": ".py",
   "mimetype": "text/x-python",
   "name": "python",
   "nbconvert_exporter": "python",
   "pygments_lexer": "ipython3",
   "version": "3.6.0"
  }
 },
 "nbformat": 4,
 "nbformat_minor": 2
}
